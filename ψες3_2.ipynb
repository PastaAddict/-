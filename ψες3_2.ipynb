{
 "cells": [
  {
   "cell_type": "code",
   "execution_count": 1,
   "metadata": {},
   "outputs": [],
   "source": [
    "import numpy as np\n",
    "import math\n",
    "import matplotlib.pyplot as plt\n",
    "import time"
   ]
  },
  {
   "cell_type": "code",
   "execution_count": 2,
   "metadata": {},
   "outputs": [],
   "source": [
    "def zone_sampling(zones,m):#input=zones as a list of tuples [(l1,u1),(l2,u2),..,]\n",
    "    samples=[np.linspace(i[0], i[1], math.ceil((i[1]-i[0])*m/np.pi)) for i in zones]#calculate how many samples out of m correspond to each zone\n",
    "    return samples\n",
    "\n",
    "def weight(x,zones,gains):\n",
    "    for ind, zone in enumerate(zones):\n",
    "        if x>=zone[0] and x<=zone[1]:\n",
    "            return gains[ind]\n",
    "        \n",
    "def filter(x,zones,start):#start boolean denoting if the first zone is pass or stop\n",
    "    for i in zones:\n",
    "        if x>=i[0] and x<=i[1]:\n",
    "            return start\n",
    "        start^=1 #invert start\n",
    "        \n",
    "def initializeMatrices(zones,gains,start,L):#L length of filter\n",
    "    K=L//2 + 1\n",
    "    freqs = np.concatenate(zone_sampling(zones,10*L))#contains alla frequencies samples\n",
    "    \n",
    "    return np.transpose([np.cos(n*freqs) for n in range(K)]), np.array([weight(x,zones,gains) for x in freqs]),np.array([filter(x,zones,start) for x in freqs])"
   ]
  },
  {
   "cell_type": "code",
   "execution_count": 3,
   "metadata": {},
   "outputs": [],
   "source": [
    "def filter_approximation(baseMatrix,coefficients):\n",
    "    return np.array([np.inner(coefficients,x) for x in baseMatrix])"
   ]
  },
  {
   "cell_type": "code",
   "execution_count": 4,
   "metadata": {},
   "outputs": [],
   "source": [
    "def Remez(baseMatrix,weight_vector,ideal, epsilon=1e-8):\n",
    "    N=len(baseMatrix[0])-1\n",
    "    \n",
    "    '''step 1,2'''\n",
    "    start_time = time.time()\n",
    "    loop=1 #used to track progress\n",
    "    \n",
    "    A = np.array([[sum(baseMatrix[:,i]*baseMatrix[:,j]*weight_vector**2) for i in range(N+1)] for j in range(N+1)])\n",
    "    b = np.array([sum(baseMatrix[:,i]*ideal*weight_vector**2) for i in range(N+1)])\n",
    "\n",
    "    c_n = np.linalg.solve(A, b) #coefficients initialization\n",
    "    \n",
    "    init_time=time.time()\n",
    "    print('Τime for initialization:',init_time - start_time)\n",
    "    \n",
    "    \n",
    "    '''step 3'''\n",
    "    while True:\n",
    "        approximation = filter_approximation(baseMatrix,c_n) #c_0 + 2c_1cosw ....\n",
    "        error = (approximation - ideal)*weight_vector #error vector used to split frequencies into zones\n",
    "        sign_zone=[error[0]] #vector used to store errors for each frequency zone\n",
    "        reduced_freqs=[] #vector used to store frequencies that satisfy the alternation theorem\n",
    "        \n",
    "        for ind,e in enumerate(error[1:]): #iterate over the error vector\n",
    "\n",
    "            if np.sign(sign_zone[-1])==np.sign(e): #if the sign of current element is the same as the last element of the\n",
    "                sign_zone.append(e)                #zone vector, therefore both elements occupy the same zone\n",
    "\n",
    "            else:#else the zone stops and we have to create a new one\n",
    "                max_index=1+ind-len(sign_zone)+np.argmax(np.abs(sign_zone)) #find argmax of absolute of current zone\n",
    "                reduced_freqs.append(max_index) #store it in alternation freqs vector\n",
    "                sign_zone=[e] #re-initialize zone vector\n",
    "\n",
    "        reduced_freqs.append(2+ind-len(sign_zone)+np.argmax(np.abs(sign_zone))) #argmax of the last zone\n",
    "        error_per_freq = [np.abs(error[i]) for i in reduced_freqs] #error vector for each frequency in alternation freqs vector\n",
    "\n",
    "        '''step 4'''\n",
    "        \n",
    "        while True:\n",
    "            M = len(reduced_freqs) #frequencies remaining in alternation freqs vector\n",
    "            K = N + 1\n",
    "\n",
    "\n",
    "            if M==K + 1: #exactly K+1 freqs are required\n",
    "                break\n",
    "\n",
    "            elif M==K + 2 or (M-K)%2==0: #case 2 and 4b of remez step 4\n",
    "                if error_per_freq[0] > error_per_freq[-1]: #compare first and last element and remove\n",
    "                    reduced_freqs=reduced_freqs[0:M-1]     #the one with lowest error from both alternation\n",
    "                    error_per_freq=error_per_freq[0:M-1]   #freqs vector and error vector\n",
    "                else:\n",
    "                    reduced_freqs=reduced_freqs[1:]\n",
    "                    error_per_freq=error_per_freq[1:]\n",
    "\n",
    "            elif M==K + 3 or (M-K)%2==1: #case 3 and 4a of remez step 4\n",
    "                freq_to_remove = np.argmin(error_per_freq) #find lowest error frequency\n",
    "                                                           #and remove both this and its adjacent with the lowest error\n",
    "                if error_per_freq[freq_to_remove-1] > error_per_freq[(freq_to_remove+1)%M]:\n",
    "                    del reduced_freqs[freq_to_remove], reduced_freqs[freq_to_remove%len(reduced_freqs)]\n",
    "                    del error_per_freq[freq_to_remove], error_per_freq[freq_to_remove%len(error_per_freq)]\n",
    "\n",
    "                else:\n",
    "                    del reduced_freqs[freq_to_remove], reduced_freqs[freq_to_remove-1]\n",
    "                    del error_per_freq[freq_to_remove], error_per_freq[freq_to_remove-1]\n",
    "        \n",
    "        '''step 5'''\n",
    "        remA=np.array([list(baseMatrix[i])+[((-1)**ind)/weight_vector[i]] for ind, i in enumerate(reduced_freqs)]) #matrix A\n",
    "        remb = np.array([ideal[i] for i in reduced_freqs]) #target matrix b containing the ideal filter response\n",
    "        remx=np.linalg.solve(remA, remb) #filter coefficients acquired after solving the minmax problem\n",
    "        \n",
    "        print('iteration:',loop,'error',np.abs(max(error_per_freq) - min(error_per_freq)))\n",
    "        \n",
    "        if np.abs(max(error_per_freq) - min(error_per_freq)) < epsilon:   #chech if requirements are satisfied\n",
    "            print('time elapsed',time.time() - start_time,'\\nδ=',remx[-1])#by getting the max and min error for\n",
    "                                                                          #the frequencies used in the minmax\n",
    " \n",
    "            \n",
    "            return c_n                                                  \n",
    "        else:\n",
    "            loop+=1\n",
    "            c_n = np.copy(remx[:-1]) #if requirements are not satisfied, repeat from step 3 using minmax coefficients\n"
   ]
  },
  {
   "cell_type": "code",
   "execution_count": 5,
   "metadata": {
    "scrolled": false
   },
   "outputs": [
    {
     "name": "stdout",
     "output_type": "stream",
     "text": [
      "Τime for initialization: 0.14999008178710938\n",
      "iteration: 1 error 0.015770565533358427\n",
      "iteration: 2 error 0.002241373158882398\n",
      "iteration: 3 error 0.00014051731750874819\n",
      "iteration: 4 error 3.552713678800501e-15\n",
      "time elapsed 0.17699027061462402 \n",
      "δ= -0.0059882606759238365\n"
     ]
    },
    {
     "data": {
      "text/plain": [
       "[<matplotlib.lines.Line2D at 0x25e53cf23a0>]"
      ]
     },
     "execution_count": 5,
     "metadata": {},
     "output_type": "execute_result"
    },
    {
     "data": {
      "image/png": "[encoded data removed]",
      "text/plain": [
       "<Figure size 1080x504 with 1 Axes>"
      ]
     },
     "metadata": {
      "needs_background": "light"
     },
     "output_type": "display_data"
    }
   ],
   "source": [
    "L=51\n",
    "zones=[(0,0.4*np.pi), (0.5*np.pi,np.pi)]\n",
    "freqs = np.concatenate(zone_sampling(zones,10*L))\n",
    "gains=[1,2]\n",
    "start=1\n",
    "\n",
    "\n",
    "baseMatrix, weight_vector, ideal = initializeMatrices(zones,gains,start,L)\n",
    "coefficients = Remez(baseMatrix,weight_vector,ideal)\n",
    "\n",
    "fig= plt.figure(figsize=(15,7))\n",
    "plt.plot(freqs,filter_approximation(baseMatrix,coefficients))"
   ]
  },
  {
   "cell_type": "markdown",
   "metadata": {},
   "source": [
    "ΑΣΚΗΣΗ 2"
   ]
  },
  {
   "cell_type": "code",
   "execution_count": 6,
   "metadata": {},
   "outputs": [],
   "source": [
    "def linprog_filter(baseMatrix, weight_vector, ideal):\n",
    "    start=time.time()\n",
    "    K=len(baseMatrix[0])\n",
    "    lpA=[]\n",
    "    lpb=[]\n",
    "    lpF=[0]*K + [1]\n",
    "    \n",
    "    for ind,i in enumerate(baseMatrix): #iterrate over baseMatrix rows to construct A and b for linprog\n",
    "        lpA.append(list(i)+[-1/weight_vector[ind]])\n",
    "        lpA.append(list(-i)+[-1/weight_vector[ind]])\n",
    "        \n",
    "        lpb.append(ideal[ind])\n",
    "        lpb.append(-ideal[ind])\n",
    "    \n",
    "    res = linprog(lpF, A_ub=lpA, b_ub=lpb, bounds = (None, None),options={'tol':1e-7})#keep low tolerance to avoid warnings\n",
    "    print('time elapsed:',time.time()-start)\n",
    "    print('δ=',res.x[-1])\n",
    "    return res.x[:-1] #return coefficients"
   ]
  },
  {
   "cell_type": "code",
   "execution_count": 7,
   "metadata": {
    "scrolled": false
   },
   "outputs": [
    {
     "name": "stdout",
     "output_type": "stream",
     "text": [
      "time elapsed: 0.8676085472106934\n",
      "δ= 0.0059882597757717395\n"
     ]
    },
    {
     "data": {
      "text/plain": [
       "[<matplotlib.lines.Line2D at 0x25e5494c730>]"
      ]
     },
     "execution_count": 7,
     "metadata": {},
     "output_type": "execute_result"
    },
    {
     "data": {
      "image/png": "[encoded data removed]",
      "text/plain": [
       "<Figure size 1080x504 with 1 Axes>"
      ]
     },
     "metadata": {
      "needs_background": "light"
     },
     "output_type": "display_data"
    }
   ],
   "source": [
    "from scipy.optimize import linprog\n",
    "\n",
    "L=51\n",
    "zones=[(0,0.4*np.pi), (0.5*np.pi,np.pi)]\n",
    "freqs = np.concatenate(zone_sampling(zones,10*L))\n",
    "gains=[1,2]\n",
    "start=1\n",
    "\n",
    "\n",
    "baseMatrix, weight_vector, ideal = initializeMatrices(zones,gains,start,L)\n",
    "lp_coefficients = linprog_filter(baseMatrix,weight_vector,ideal)\n",
    "\n",
    "fig= plt.figure(figsize=(15,7))\n",
    "plt.plot(freqs,filter_approximation(baseMatrix,lp_coefficients))"
   ]
  },
  {
   "cell_type": "markdown",
   "metadata": {},
   "source": [
    "ΑΣΚΗΣΗ 3"
   ]
  },
  {
   "cell_type": "code",
   "execution_count": 10,
   "metadata": {},
   "outputs": [],
   "source": [
    "def Remez_Eq(baseMatrix,weight_vector,ideal,eq_freqs,D,epsilon=1e-8):\n",
    "    N=len(baseMatrix[0])-1\n",
    "    l=len(eq_freqs)\n",
    "    \n",
    "    '''step 1,2'''\n",
    "    start_time = time.time()\n",
    "    loop=1\n",
    "    \n",
    "    Q = np.array([[sum(baseMatrix[:,i]*baseMatrix[:,j]*weight_vector**2) for i in range(N+1)] for j in range(N+1)])\n",
    "    A = np.transpose([np.cos(n*eq_freqs) for n in range(N+1)])\n",
    "\n",
    "    Eq_A = np.concatenate((np.append(Q, np.transpose(A), axis=1),np.append(A, np.zeros((l,l)), axis=1)),axis=0)\n",
    "    Eq_b = np.concatenate((np.array([sum(baseMatrix[:,i]*ideal*weight_vector**2) for i in range(N+1)]),D),axis=0)\n",
    "    Eq_x = np.linalg.solve(Eq_A, Eq_b)\n",
    "\n",
    "    a_n = Eq_x[:N+1]\n",
    "    \n",
    "    init_time=time.time()\n",
    "    print('Τime for initialization:',init_time - start_time)\n",
    "    \n",
    "    \n",
    "    '''step 3'''\n",
    "    while True:\n",
    "        approximation = filter_approximation(baseMatrix,a_n) #a_0 + 2a_1cosw ....\n",
    "        error = (approximation - ideal)*weight_vector #error vector used to split frequencies into zones\n",
    "        sign_zone=[error[0]] #vector used to store errors for each frequency zone\n",
    "        reduced_freqs=[] #vector used to store frequencies that satisfy the alternation theorem\n",
    "        \n",
    "        for ind,e in enumerate(error[1:]): #iterate over the error vector\n",
    "\n",
    "            if np.sign(sign_zone[-1])==np.sign(e): #if the sign of current element is the same as the last element of the\n",
    "                sign_zone.append(e)                #zone vector, therefore both elements occupy the same zone\n",
    "\n",
    "            else:#else the zone stops and we have to create a new one\n",
    "                max_index=1+ind-len(sign_zone)+np.argmax(np.abs(sign_zone)) #find argmax of absolute of current zone\n",
    "                reduced_freqs.append(max_index) #store it in alternation freqs vector\n",
    "                sign_zone=[e] #re-initialize zone vector\n",
    "\n",
    "        reduced_freqs.append(2+ind-len(sign_zone)+np.argmax(np.abs(sign_zone))) #argmax of the last zone\n",
    "\n",
    "        error_per_freq = [np.abs(error[i]) for i in reduced_freqs] #error vector for each frequency in alternation freqs vector\n",
    "\n",
    "        '''step 4'''\n",
    "        \n",
    "        while True:\n",
    "            M = len(reduced_freqs) #frequencies remaining in alternation freqs vector\n",
    "            K = N + 1 - l\n",
    "\n",
    "            if M==K + 1: #exactly N+1 freqs are required\n",
    "                break\n",
    "\n",
    "            elif M==K + 2 or (M-K)%2==0:\n",
    "                if error_per_freq[0] > error_per_freq[-1]:\n",
    "                    reduced_freqs=reduced_freqs[0:M-1]\n",
    "                    error_per_freq=error_per_freq[0:M-1]\n",
    "                else:\n",
    "                    reduced_freqs=reduced_freqs[1:]\n",
    "                    error_per_freq=error_per_freq[1:]\n",
    "\n",
    "            elif M==K + 3 or (M-K)%2==1:\n",
    "                freq_to_remove = np.argmin(error_per_freq)\n",
    "\n",
    "                if error_per_freq[freq_to_remove-1] > error_per_freq[(freq_to_remove+1)%M]:\n",
    "                    del reduced_freqs[freq_to_remove], reduced_freqs[freq_to_remove%len(reduced_freqs)]\n",
    "                    del error_per_freq[freq_to_remove], error_per_freq[freq_to_remove%len(error_per_freq)]\n",
    "\n",
    "                else:\n",
    "                    del reduced_freqs[freq_to_remove], reduced_freqs[freq_to_remove-1]\n",
    "                    del error_per_freq[freq_to_remove], error_per_freq[freq_to_remove-1]\n",
    "        \n",
    "        '''step 5'''\n",
    "        remA = np.concatenate((np.array([list(baseMatrix[i])+[((-1)**ind)/weight_vector[i]] for ind, i in enumerate(reduced_freqs)]),np.append(A, np.zeros((l,1)),axis=1)), axis=0) #matrix A\n",
    "        remb = np.concatenate((np.array([ideal[i] for i in reduced_freqs]),D), axis=0) #target matrix b containing the ideal filter response\n",
    "        remx = np.linalg.solve(remA, remb) #filter coefficients acquired after solving the minmax problem\n",
    "        print('iteration:',loop,'error',np.abs(max(error_per_freq) - min(error_per_freq)))\n",
    "        if np.abs(max(error_per_freq) - min(error_per_freq)) < epsilon: #chech if requirements are satisfied\n",
    "            print('time elapsed',time.time() - start_time,'\\nδ=',remx[-1]) #by getting the max and min error for\n",
    "                                                                        #the frequencies used in the minmax\n",
    " \n",
    "            \n",
    "            return a_n                                                  \n",
    "        else:\n",
    "            loop+=1\n",
    "            a_n = np.copy(remx[:-1]) #if requirements are not satisfied, repeat from step 3 using minmax coefficients\n"
   ]
  },
  {
   "cell_type": "code",
   "execution_count": 11,
   "metadata": {
    "scrolled": false
   },
   "outputs": [
    {
     "name": "stdout",
     "output_type": "stream",
     "text": [
      "Τime for initialization: 0.11099696159362793\n",
      "iteration: 1 error 0.021982461747654947\n",
      "iteration: 2 error 0.6850896508171213\n",
      "iteration: 3 error 0.021936763644921052\n",
      "iteration: 4 error 0.0018959772581588208\n",
      "iteration: 5 error 5.4862864501570296e-05\n",
      "iteration: 6 error 2.8449465006019636e-15\n",
      "time elapsed 0.13700461387634277 \n",
      "δ= 0.00978862513415656\n"
     ]
    },
    {
     "data": {
      "text/plain": [
       "<module 'matplotlib.pyplot' from 'C:\\\\Users\\\\krist\\\\anaconda3\\\\lib\\\\site-packages\\\\matplotlib\\\\pyplot.py'>"
      ]
     },
     "execution_count": 11,
     "metadata": {},
     "output_type": "execute_result"
    },
    {
     "data": {
      "image/png": "[encoded data removed]",
      "text/plain": [
       "<Figure size 1080x504 with 1 Axes>"
      ]
     },
     "metadata": {
      "needs_background": "light"
     },
     "output_type": "display_data"
    }
   ],
   "source": [
    "eq_freqs = np.array([0.45*np.pi])\n",
    "D = np.array([0.5])\n",
    "\n",
    "L=51\n",
    "zones=[(0,0.4*np.pi), (0.5*np.pi,np.pi)]\n",
    "freqs = np.concatenate(zone_sampling(zones,10*L))\n",
    "gains=[1,2]\n",
    "start=1\n",
    "\n",
    "\n",
    "baseMatrix, weight_vector, ideal = initializeMatrices(zones,gains,start,L)\n",
    "coefficients = Remez_Eq(baseMatrix,weight_vector,ideal,eq_freqs,D)\n",
    "\n",
    "fig= plt.figure(figsize=(15,7))\n",
    "x=np.linspace(0,np.pi,1000)\n",
    "y=np.array([np.inner(coefficients,x) for x in np.transpose([np.cos(n*x) for n in range(L//2+1)])])\n",
    "plt.plot(x,y)\n",
    "plt"
   ]
  },
  {
   "cell_type": "code",
   "execution_count": 13,
   "metadata": {},
   "outputs": [],
   "source": [
    "def Eq_linprog_filter(baseMatrix, weight_vector, ideal, eq_freqs, D):\n",
    "    K=len(baseMatrix[0])\n",
    "    lpA=[]\n",
    "    lpb=[]\n",
    "    lpF=[0]*K + [1]\n",
    "    \n",
    "    for ind,i in enumerate(baseMatrix):\n",
    "        lpA.append(list(i)+[-1/weight_vector[ind]])\n",
    "        lpA.append(list(-i)+[-1/weight_vector[ind]])\n",
    "        \n",
    "        lpb.append(ideal[ind])\n",
    "        lpb.append(-ideal[ind])\n",
    "    \n",
    "\n",
    "    eq_A = [[np.cos(n*i) for n in range(K)]+[0] for i in eq_freqs] \n",
    "    eq_b = D\n",
    "\n",
    "    \n",
    "    res = linprog(lpF, A_ub=lpA, b_ub=lpb, A_eq=eq_A, b_eq=eq_b, bounds = (None, None),options={'tol':1e-6})\n",
    "    print('error',res.x[-1])\n",
    "    return res.x[:-1]"
   ]
  },
  {
   "cell_type": "code",
   "execution_count": 14,
   "metadata": {},
   "outputs": [
    {
     "name": "stdout",
     "output_type": "stream",
     "text": [
      "error 0.007332709667555932\n"
     ]
    },
    {
     "data": {
      "text/plain": [
       "[<matplotlib.lines.Line2D at 0x25e54b901f0>]"
      ]
     },
     "execution_count": 14,
     "metadata": {},
     "output_type": "execute_result"
    },
    {
     "data": {
      "image/png": "[encoded data removed]",
      "text/plain": [
       "<Figure size 1080x504 with 1 Axes>"
      ]
     },
     "metadata": {
      "needs_background": "light"
     },
     "output_type": "display_data"
    }
   ],
   "source": [
    "from scipy.optimize import linprog\n",
    "\n",
    "eq_freqs = np.array([0.45*np.pi])\n",
    "D = np.array([0.5])\n",
    "L=51\n",
    "zones=[(0,0.4*np.pi), (0.5*np.pi,np.pi)]\n",
    "freqs = np.concatenate(zone_sampling(zones,10*L))\n",
    "gains=[1,2]\n",
    "start=1\n",
    "\n",
    "\n",
    "baseMatrix, weight_vector, ideal = initializeMatrices(zones,gains,start,L)\n",
    "lp_coefficients = Eq_linprog_filter(baseMatrix,weight_vector,ideal,eq_freqs,D)\n",
    "\n",
    "fig= plt.figure(figsize=(15,7))\n",
    "x=np.linspace(0,np.pi,1000)\n",
    "y=np.array([np.inner(lp_coefficients,x) for x in np.transpose([np.cos(n*x) for n in range(L//2+1)])])\n",
    "plt.plot(x,y)"
   ]
  }
 ],
 "metadata": {
  "kernelspec": {
   "display_name": "Python 3",
   "language": "python",
   "name": "python3"
  },
  "language_info": {
   "codemirror_mode": {
    "name": "ipython",
    "version": 3
   },
   "file_extension": ".py",
   "mimetype": "text/x-python",
   "name": "python",
   "nbconvert_exporter": "python",
   "pygments_lexer": "ipython3",
   "version": "3.8.3"
  }
 },
 "nbformat": 4,
 "nbformat_minor": 4
}
